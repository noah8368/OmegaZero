{
 "cells": [
  {
   "cell_type": "markdown",
   "id": "14bb2452",
   "metadata": {
    "id": "14bb2452"
   },
   "source": [
    "OmegaZero Evaluation Function Training Notebook"
   ]
  },
  {
   "cell_type": "markdown",
   "id": "eb64915c",
   "metadata": {
    "id": "eb64915c"
   },
   "source": [
    "Mount Google Drive"
   ]
  },
  {
   "cell_type": "code",
   "execution_count": null,
   "id": "3d129a4d",
   "metadata": {
    "colab": {
     "base_uri": "https://localhost:8080/"
    },
    "executionInfo": {
     "elapsed": 1087,
     "status": "ok",
     "timestamp": 1647254240696,
     "user": {
      "displayName": "Noah Himed",
      "photoUrl": "https://lh3.googleusercontent.com/a-/AOh14GiQDHVkZWccQgkMxCiF5Ow4Ohgo7IZur2gES5jrXQ=s64",
      "userId": "01275784072187732883"
     },
     "user_tz": 420
    },
    "id": "3d129a4d",
    "outputId": "96b16e50-7912-499a-f817-40a48dd5f22e"
   },
   "outputs": [],
   "source": [
    "from google.colab import drive\n",
    "drive.mount('/content/gdrive')"
   ]
  },
  {
   "cell_type": "code",
   "execution_count": null,
   "id": "iCAg-8Cw9jmr",
   "metadata": {
    "colab": {
     "base_uri": "https://localhost:8080/"
    },
    "executionInfo": {
     "elapsed": 20,
     "status": "ok",
     "timestamp": 1647254247562,
     "user": {
      "displayName": "Noah Himed",
      "photoUrl": "https://lh3.googleusercontent.com/a-/AOh14GiQDHVkZWccQgkMxCiF5Ow4Ohgo7IZur2gES5jrXQ=s64",
      "userId": "01275784072187732883"
     },
     "user_tz": 420
    },
    "id": "iCAg-8Cw9jmr",
    "outputId": "d93d73d6-470c-4a21-a7ab-8f900ec9f9f3"
   },
   "outputs": [],
   "source": [
    "%cd 'gdrive/MyDrive/Colab Notebooks/eval_scripts'"
   ]
  },
  {
   "cell_type": "code",
   "execution_count": null,
   "id": "WbNudKKYAAc9",
   "metadata": {
    "colab": {
     "base_uri": "https://localhost:8080/",
     "height": 332
    },
    "executionInfo": {
     "elapsed": 11329,
     "status": "ok",
     "timestamp": 1647254220574,
     "user": {
      "displayName": "Noah Himed",
      "photoUrl": "https://lh3.googleusercontent.com/a-/AOh14GiQDHVkZWccQgkMxCiF5Ow4Ohgo7IZur2gES5jrXQ=s64",
      "userId": "01275784072187732883"
     },
     "user_tz": 420
    },
    "id": "WbNudKKYAAc9",
    "outputId": "b22ea412-cc6b-4abc-c3ce-d38230846bf5"
   },
   "outputs": [],
   "source": [
    "!pip3 uninstall python-chess\n",
    "!pip3 install chess"
   ]
  },
  {
   "cell_type": "markdown",
   "id": "fea110ab",
   "metadata": {
    "id": "fea110ab"
   },
   "source": [
    "Verify GPU information"
   ]
  },
  {
   "cell_type": "code",
   "execution_count": null,
   "id": "ece16441",
   "metadata": {
    "colab": {
     "base_uri": "https://localhost:8080/"
    },
    "executionInfo": {
     "elapsed": 321,
     "status": "ok",
     "timestamp": 1647254252080,
     "user": {
      "displayName": "Noah Himed",
      "photoUrl": "https://lh3.googleusercontent.com/a-/AOh14GiQDHVkZWccQgkMxCiF5Ow4Ohgo7IZur2gES5jrXQ=s64",
      "userId": "01275784072187732883"
     },
     "user_tz": 420
    },
    "id": "ece16441",
    "outputId": "bbbf5fc3-cf46-4790-a7c1-2e3263f64f02"
   },
   "outputs": [],
   "source": [
    "!nvidia-smi"
   ]
  },
  {
   "cell_type": "markdown",
   "id": "5b9d717b",
   "metadata": {
    "id": "5b9d717b"
   },
   "source": [
    "Train the model"
   ]
  },
  {
   "cell_type": "code",
   "execution_count": null,
   "id": "a5865a7f",
   "metadata": {
    "colab": {
     "base_uri": "https://localhost:8080/",
     "height": 502
    },
    "executionInfo": {
     "elapsed": 330,
     "status": "error",
     "timestamp": 1647254977264,
     "user": {
      "displayName": "Noah Himed",
      "photoUrl": "https://lh3.googleusercontent.com/a-/AOh14GiQDHVkZWccQgkMxCiF5Ow4Ohgo7IZur2gES5jrXQ=s64",
      "userId": "01275784072187732883"
     },
     "user_tz": 420
    },
    "id": "a5865a7f",
    "outputId": "d10fe7dc-c232-44be-f707-301553195246",
    "scrolled": true
   },
   "outputs": [],
   "source": [
    "from train import train_model\n",
    "\n",
    "train_model(model_choice='C', num_iters=10, num_sims=5, num_eps=10, c_puct=1,\n",
    "            threshold=0.50)"
   ]
  }
 ],
 "metadata": {
  "accelerator": "GPU",
  "colab": {
   "collapsed_sections": [],
   "machine_shape": "hm",
   "name": "train_A.ipynb",
   "provenance": []
  },
  "kernelspec": {
   "display_name": "Python 3 (ipykernel)",
   "language": "python",
   "name": "python3"
  },
  "language_info": {
   "codemirror_mode": {
    "name": "ipython",
    "version": 3
   },
   "file_extension": ".py",
   "mimetype": "text/x-python",
   "name": "python",
   "nbconvert_exporter": "python",
   "pygments_lexer": "ipython3",
   "version": "3.8.10"
  }
 },
 "nbformat": 4,
 "nbformat_minor": 5
}
